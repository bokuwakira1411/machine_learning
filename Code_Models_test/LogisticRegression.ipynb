{
 "cells": [
  {
   "cell_type": "markdown",
   "metadata": {},
   "source": [
    "Example 1: For binary classes - Car stopping distances "
   ]
  },
  {
   "cell_type": "markdown",
   "metadata": {},
   "source": [
    "The first step: Training data\n",
    "We have a data set : labbels for flower (0) and plant (1)\n",
    "with the height x = [10:20] -> flower\n",
    "x = [30:100] -> plant\n",
    "X = [\n",
    "    1 1\n",
    "    1 2\n",
    "    1 3\n",
    "    1 4\n",
    "    1 5\n",
    "    1 30\n",
    "    1 60\n",
    "]\n",
    "y = [\n",
    "    0\n",
    "    0\n",
    "    0\n",
    "    0\n",
    "    0\n",
    "    1\n",
    "    1\n",
    "]\n",
    "the objective : find the vector theta to \n",
    "theta = [\n",
    "    theta_1\n",
    "    theta_2\n",
    "]\n",
    "The matrix theta is used to predict new y^"
   ]
  },
  {
   "cell_type": "code",
   "execution_count": 9,
   "metadata": {},
   "outputs": [],
   "source": [
    "import numpy as np\n",
    "import math\n",
    "from scipy.optimize import fmin_tnc"
   ]
  },
  {
   "cell_type": "code",
   "execution_count": 5,
   "metadata": {},
   "outputs": [],
   "source": [
    "X = np.array([[2.5, 0.5], [0.5, 2.5], [2.0, 2.0], [1.5, 1.5], [1.0, 1.0]])\n",
    "y = np.array([0, 0, 1, 1, 1])"
   ]
  },
  {
   "cell_type": "code",
   "execution_count": 10,
   "metadata": {},
   "outputs": [],
   "source": [
    "def gradient(theta, X, y):\n",
    "    m = len(y)\n",
    "    h = X.dot(theta)\n",
    "    return 1/m * X.T.dot(h - y)\n",
    "def cost_function(theta, X, y):\n",
    "    m = len(y)\n",
    "    h = X.dot(theta)\n",
    "    return 1/(2*m) * np.sum((h - y)**2)"
   ]
  },
  {
   "cell_type": "markdown",
   "metadata": {},
   "source": [
    "Sử dụng Truncated Newton (Gradient Descent)"
   ]
  },
  {
   "cell_type": "code",
   "execution_count": 11,
   "metadata": {},
   "outputs": [],
   "source": [
    "initial_theta = np.zeros(X.shape[1])\n",
    "theta, cost, *_ = fmin_tnc(func=cost_function,\n",
    "                           x0=initial_theta,\n",
    "                           fprime=gradient,\n",
    "                           args=(X,y))"
   ]
  },
  {
   "cell_type": "code",
   "execution_count": 12,
   "metadata": {},
   "outputs": [
    {
     "name": "stdout",
     "output_type": "stream",
     "text": [
      "[0.19148936 0.19148936]\n"
     ]
    }
   ],
   "source": [
    "print(theta)"
   ]
  },
  {
   "cell_type": "code",
   "execution_count": 18,
   "metadata": {},
   "outputs": [
    {
     "data": {
      "text/plain": [
       "0.5"
      ]
     },
     "execution_count": 18,
     "metadata": {},
     "output_type": "execute_result"
    }
   ],
   "source": [
    "X[0][1]"
   ]
  },
  {
   "cell_type": "code",
   "execution_count": 27,
   "metadata": {},
   "outputs": [],
   "source": [
    "def predict(theta, X):\n",
    "    p = np.zeros(X.shape[0])\n",
    "    h = X.dot(theta.T)\n",
    "    for i in range(X.shape[0]):\n",
    "        if h[i] >= 0:\n",
    "            p[i] = 1\n",
    "        else:\n",
    "            p[i] = 0 \n",
    "    return p"
   ]
  },
  {
   "cell_type": "code",
   "execution_count": 35,
   "metadata": {},
   "outputs": [
    {
     "name": "stdout",
     "output_type": "stream",
     "text": [
      "[1. 1. 1.]\n"
     ]
    }
   ],
   "source": [
    "X_new = np.array([[2.0, 1.0], [1.0, 2.0], [1.5, 1.5]])\n",
    "y_pred = (predict(theta,X_new))\n",
    "print(y_pred)"
   ]
  }
 ],
 "metadata": {
  "kernelspec": {
   "display_name": "Python 3",
   "language": "python",
   "name": "python3"
  },
  "language_info": {
   "codemirror_mode": {
    "name": "ipython",
    "version": 3
   },
   "file_extension": ".py",
   "mimetype": "text/x-python",
   "name": "python",
   "nbconvert_exporter": "python",
   "pygments_lexer": "ipython3",
   "version": "3.12.2"
  }
 },
 "nbformat": 4,
 "nbformat_minor": 2
}
